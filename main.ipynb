{
 "cells": [
  {
   "cell_type": "code",
   "execution_count": 1,
   "id": "bca2c296-c4d9-4bc8-b5cf-a6cd84dfd9d0",
   "metadata": {},
   "outputs": [
    {
     "name": "stderr",
     "output_type": "stream",
     "text": [
      "/Library/Frameworks/Python.framework/Versions/3.11/lib/python3.11/site-packages/tqdm/auto.py:21: TqdmWarning: IProgress not found. Please update jupyter and ipywidgets. See https://ipywidgets.readthedocs.io/en/stable/user_install.html\n",
      "  from .autonotebook import tqdm as notebook_tqdm\n"
     ]
    }
   ],
   "source": [
    "from libraries import *\n",
    "from featureEng import *\n",
    "import os"
   ]
  },
  {
   "cell_type": "code",
   "execution_count": 2,
   "id": "eaba5180-8b05-4fdb-a655-a1cf52bfb0ec",
   "metadata": {},
   "outputs": [
    {
     "data": {
      "text/plain": [
       "'/Users/nekkunjpilani/Downloads/nlp-project/uploads/The-Myth-of-Normal.pdf'"
      ]
     },
     "execution_count": 2,
     "metadata": {},
     "output_type": "execute_result"
    }
   ],
   "source": [
    "base_dir = os.getcwd()\n",
    "filepath=\"uploads/The-Myth-of-Normal.pdf\"\n",
    "path=os.path.join(base_dir,filepath)\n",
    "path"
   ]
  },
  {
   "cell_type": "code",
   "execution_count": 13,
   "id": "a9929fd9-84a7-4295-9212-a186ec6a66a4",
   "metadata": {},
   "outputs": [
    {
     "name": "stdout",
     "output_type": "stream",
     "text": [
      "Converting PDF to txt file.\n",
      "Successfully converted PDF to txt.\n",
      "Contents page found!\n",
      "\n",
      "Found acknowledgement!\n",
      "\n"
     ]
    },
    {
     "name": "stderr",
     "output_type": "stream",
     "text": [
      "You are using the default legacy behaviour of the <class 'transformers.models.t5.tokenization_t5.T5Tokenizer'>. This is expected, and simply means that the `legacy` (previous) behavior will be used so nothing changes for you. If you want to use the new behaviour, set `legacy=False`. This should only be set if you understand what it means, and thouroughly read the reason why this was added as explained in https://github.com/huggingface/transformers/pull/24565\n",
      "Special tokens have been added in the vocabulary, make sure the associated word embeddings are fine-tuned or trained.\n"
     ]
    },
    {
     "name": "stdout",
     "output_type": "stream",
     "text": [
      "The-Myth-of-NormalChapter23.txt\n",
      "The-Myth-of-NormalChapter22.txt\n",
      "The-Myth-of-NormalChapter1.txt\n",
      "The-Myth-of-NormalChapter3.txt\n",
      "The-Myth-of-NormalChapter20.txt\n",
      "The-Myth-of-NormalChapter21.txt\n",
      "The-Myth-of-NormalChapter2.txt\n",
      "The-Myth-of-NormalChapter6.txt\n",
      "The-Myth-of-NormalChapter19.txt\n",
      "The-Myth-of-NormalChapter31.txt\n",
      "The-Myth-of-NormalChapter25.txt\n",
      "The-Myth-of-NormalChapter24.txt\n",
      "The-Myth-of-NormalChapter30.txt\n",
      "The-Myth-of-NormalChapter18.txt\n",
      "The-Myth-of-NormalChapter7.txt\n",
      "The-Myth-of-NormalChapter5.txt\n",
      "The-Myth-of-NormalChapter26.txt\n",
      "The-Myth-of-NormalChapter32.txt\n",
      "The-Myth-of-NormalChapter33.txt\n",
      "The-Myth-of-NormalChapter27.txt\n",
      "The-Myth-of-NormalChapter4.txt\n",
      "The-Myth-of-NormalChapter9.txt\n",
      "The-Myth-of-NormalChapter16.txt\n",
      "The-Myth-of-NormalChapter17.txt\n",
      "The-Myth-of-NormalChapter8.txt\n",
      "The-Myth-of-NormalChapter15.txt\n",
      "The-Myth-of-NormalChapter29.txt\n",
      "The-Myth-of-NormalChapter28.txt\n",
      "The-Myth-of-NormalChapter14.txt\n",
      "The-Myth-of-NormalChapter10.txt\n",
      "The-Myth-of-NormalChapter11.txt\n",
      "The-Myth-of-NormalChapter13.txt\n",
      "The-Myth-of-NormalChapter12.txt\n",
      "Summarising:  The-Myth-of-NormalChapter23.txt\n"
     ]
    },
    {
     "name": "stderr",
     "output_type": "stream",
     "text": [
      "Token indices sequence length is longer than the specified maximum sequence length for this model (516 > 512). Running this sequence through the model will result in indexing errors\n"
     ]
    },
    {
     "name": "stdout",
     "output_type": "stream",
     "text": [
      "Summarisation complete!\n",
      "Summary written to file!\n",
      "Summarising:  The-Myth-of-NormalChapter22.txt\n",
      "Summarisation complete!\n",
      "Summary written to file!\n",
      "Summarising:  The-Myth-of-NormalChapter1.txt\n",
      "Summarisation complete!\n",
      "Summary written to file!\n",
      "Summarising:  The-Myth-of-NormalChapter3.txt\n",
      "Summarisation complete!\n",
      "Summary written to file!\n",
      "Summarising:  The-Myth-of-NormalChapter20.txt\n",
      "Summarisation complete!\n",
      "Summary written to file!\n",
      "Summarising:  The-Myth-of-NormalChapter21.txt\n",
      "Summarisation complete!\n",
      "Summary written to file!\n",
      "Summarising:  The-Myth-of-NormalChapter2.txt\n",
      "Summarisation complete!\n",
      "Summary written to file!\n",
      "Summarising:  The-Myth-of-NormalChapter6.txt\n",
      "Summarisation complete!\n",
      "Summary written to file!\n",
      "Summarising:  The-Myth-of-NormalChapter19.txt\n",
      "Summarisation complete!\n",
      "Summary written to file!\n",
      "Summarising:  The-Myth-of-NormalChapter31.txt\n",
      "Summarisation complete!\n",
      "Summary written to file!\n",
      "Summarising:  The-Myth-of-NormalChapter25.txt\n",
      "Summarisation complete!\n",
      "Summary written to file!\n",
      "Summarising:  The-Myth-of-NormalChapter24.txt\n",
      "Summarisation complete!\n",
      "Summary written to file!\n",
      "Summarising:  The-Myth-of-NormalChapter30.txt\n",
      "Summarisation complete!\n",
      "Summary written to file!\n",
      "Summarising:  The-Myth-of-NormalChapter18.txt\n",
      "Summarisation complete!\n",
      "Summary written to file!\n",
      "Summarising:  The-Myth-of-NormalChapter7.txt\n",
      "Summarisation complete!\n",
      "Summary written to file!\n",
      "Summarising:  The-Myth-of-NormalChapter5.txt\n",
      "Summarisation complete!\n",
      "Summary written to file!\n",
      "Summarising:  The-Myth-of-NormalChapter26.txt\n",
      "Summarisation complete!\n",
      "Summary written to file!\n",
      "Summarising:  The-Myth-of-NormalChapter32.txt\n",
      "Summarisation complete!\n",
      "Summary written to file!\n",
      "Summarising:  The-Myth-of-NormalChapter33.txt\n",
      "Summarisation complete!\n",
      "Summary written to file!\n",
      "Summarising:  The-Myth-of-NormalChapter27.txt\n",
      "Summarisation complete!\n",
      "Summary written to file!\n",
      "Summarising:  The-Myth-of-NormalChapter4.txt\n",
      "Summarisation complete!\n",
      "Summary written to file!\n",
      "Summarising:  The-Myth-of-NormalChapter9.txt\n",
      "Summarisation complete!\n",
      "Summary written to file!\n",
      "Summarising:  The-Myth-of-NormalChapter16.txt\n",
      "Summarisation complete!\n",
      "Summary written to file!\n",
      "Summarising:  The-Myth-of-NormalChapter17.txt\n",
      "Summarisation complete!\n",
      "Summary written to file!\n",
      "Summarising:  The-Myth-of-NormalChapter8.txt\n",
      "Summarisation complete!\n",
      "Summary written to file!\n",
      "Summarising:  The-Myth-of-NormalChapter15.txt\n",
      "Summarisation complete!\n",
      "Summary written to file!\n",
      "Summarising:  The-Myth-of-NormalChapter29.txt\n",
      "Summarisation complete!\n",
      "Summary written to file!\n",
      "Summarising:  The-Myth-of-NormalChapter28.txt\n",
      "Summarisation complete!\n",
      "Summary written to file!\n",
      "Summarising:  The-Myth-of-NormalChapter14.txt\n",
      "Summarisation complete!\n",
      "Summary written to file!\n",
      "Summarising:  The-Myth-of-NormalChapter10.txt\n",
      "Summarisation complete!\n",
      "Summary written to file!\n",
      "Summarising:  The-Myth-of-NormalChapter11.txt\n",
      "Summarisation complete!\n",
      "Summary written to file!\n",
      "Summarising:  The-Myth-of-NormalChapter13.txt\n",
      "Summarisation complete!\n",
      "Summary written to file!\n",
      "Summarising:  The-Myth-of-NormalChapter12.txt\n",
      "Summarisation complete!\n",
      "Summary written to file!\n",
      "average_recall 0.20055989854017975\n",
      "average_precision 0.9481359492958421\n",
      "average_f1 0.3302081976497751\n"
     ]
    }
   ],
   "source": [
    "summaries,average_recall,average_precision,average_f1=parse_pdf(filepath,\"t5-small\")"
   ]
  },
  {
   "cell_type": "code",
   "execution_count": null,
   "id": "466308fc-9936-4871-be68-409428578178",
   "metadata": {},
   "outputs": [
    {
     "name": "stdout",
     "output_type": "stream",
     "text": [
      "Converting PDF to txt file.\n",
      "Successfully converted PDF to txt.\n",
      "Contents page found!\n",
      "\n",
      "Found acknowledgement!\n",
      "\n"
     ]
    },
    {
     "name": "stderr",
     "output_type": "stream",
     "text": [
      "/Library/Frameworks/Python.framework/Versions/3.11/lib/python3.11/site-packages/transformers/models/t5/tokenization_t5.py:240: FutureWarning: This tokenizer was incorrectly instantiated with a model max length of 512 which will be corrected in Transformers v5.\n",
      "For now, this behavior is kept to avoid breaking backwards compatibility when padding/encoding with `truncation is True`.\n",
      "- Be aware that you SHOULD NOT rely on t5-3b automatically truncating your input to 512 when padding/encoding.\n",
      "- If you want to encode/pad to sequences longer than 512 you can either instantiate this tokenizer with `model_max_length` or pass `max_length` when encoding/padding.\n",
      "- To avoid this warning, please instantiate this tokenizer with `model_max_length` set to your preferred value.\n",
      "  warnings.warn(\n",
      "You are using the default legacy behaviour of the <class 'transformers.models.t5.tokenization_t5.T5Tokenizer'>. This is expected, and simply means that the `legacy` (previous) behavior will be used so nothing changes for you. If you want to use the new behaviour, set `legacy=False`. This should only be set if you understand what it means, and thouroughly read the reason why this was added as explained in https://github.com/huggingface/transformers/pull/24565\n",
      "Special tokens have been added in the vocabulary, make sure the associated word embeddings are fine-tuned or trained.\n"
     ]
    },
    {
     "name": "stdout",
     "output_type": "stream",
     "text": [
      "The-Myth-of-NormalChapter23.txt\n",
      "The-Myth-of-NormalChapter22.txt\n",
      "The-Myth-of-NormalChapter1.txt\n",
      "The-Myth-of-NormalChapter3.txt\n",
      "The-Myth-of-NormalChapter20.txt\n",
      "The-Myth-of-NormalChapter21.txt\n",
      "The-Myth-of-NormalChapter2.txt\n",
      "The-Myth-of-NormalChapter6.txt\n",
      "The-Myth-of-NormalChapter19.txt\n",
      "The-Myth-of-NormalChapter31.txt\n",
      "The-Myth-of-NormalChapter25.txt\n",
      "The-Myth-of-NormalChapter24.txt\n",
      "The-Myth-of-NormalChapter30.txt\n",
      "The-Myth-of-NormalChapter18.txt\n",
      "The-Myth-of-NormalChapter7.txt\n",
      "The-Myth-of-NormalChapter5.txt\n",
      "The-Myth-of-NormalChapter26.txt\n",
      "The-Myth-of-NormalChapter32.txt\n",
      "The-Myth-of-NormalChapter33.txt\n",
      "The-Myth-of-NormalChapter27.txt\n",
      "The-Myth-of-NormalChapter4.txt\n",
      "The-Myth-of-NormalChapter9.txt\n",
      "The-Myth-of-NormalChapter16.txt\n",
      "The-Myth-of-NormalChapter17.txt\n",
      "The-Myth-of-NormalChapter8.txt\n",
      "The-Myth-of-NormalChapter15.txt\n",
      "The-Myth-of-NormalChapter29.txt\n",
      "The-Myth-of-NormalChapter28.txt\n",
      "The-Myth-of-NormalChapter14.txt\n",
      "The-Myth-of-NormalChapter10.txt\n",
      "The-Myth-of-NormalChapter11.txt\n",
      "The-Myth-of-NormalChapter13.txt\n",
      "The-Myth-of-NormalChapter12.txt\n",
      "Summarising:  The-Myth-of-NormalChapter23.txt\n"
     ]
    },
    {
     "name": "stderr",
     "output_type": "stream",
     "text": [
      "Token indices sequence length is longer than the specified maximum sequence length for this model (516 > 512). Running this sequence through the model will result in indexing errors\n"
     ]
    }
   ],
   "source": [
    "summaries,average_recall,average_precision,average_f1=parse_pdf(filepath,\"t5-3b\")"
   ]
  },
  {
   "cell_type": "code",
   "execution_count": 21,
   "id": "c85279f3-fb3c-4693-8ed5-d86762dc98d4",
   "metadata": {},
   "outputs": [],
   "source": []
  },
  {
   "cell_type": "code",
   "execution_count": null,
   "id": "9680b259-c75c-41e6-89b9-dddfc32e392e",
   "metadata": {},
   "outputs": [],
   "source": []
  },
  {
   "cell_type": "code",
   "execution_count": null,
   "id": "762327db-9842-4e5e-a5fa-157101f2d3e5",
   "metadata": {},
   "outputs": [],
   "source": []
  },
  {
   "cell_type": "code",
   "execution_count": null,
   "id": "e6a86128-e6b0-4cd7-94f7-8acecc898e50",
   "metadata": {},
   "outputs": [],
   "source": []
  },
  {
   "cell_type": "code",
   "execution_count": null,
   "id": "9d171e7d-9c57-4ddc-871c-57bd732e3095",
   "metadata": {},
   "outputs": [],
   "source": []
  },
  {
   "cell_type": "code",
   "execution_count": null,
   "id": "1b7cdcd6-62fa-4ef4-8cfe-9381db9511d7",
   "metadata": {},
   "outputs": [],
   "source": []
  }
 ],
 "metadata": {
  "kernelspec": {
   "display_name": "Python 3 (ipykernel)",
   "language": "python",
   "name": "python3"
  },
  "language_info": {
   "codemirror_mode": {
    "name": "ipython",
    "version": 3
   },
   "file_extension": ".py",
   "mimetype": "text/x-python",
   "name": "python",
   "nbconvert_exporter": "python",
   "pygments_lexer": "ipython3",
   "version": "3.11.5"
  }
 },
 "nbformat": 4,
 "nbformat_minor": 5
}
